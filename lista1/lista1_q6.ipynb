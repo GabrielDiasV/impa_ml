{
 "cells": [
  {
   "cell_type": "markdown",
   "metadata": {},
   "source": [
    "# Q6)"
   ]
  },
  {
   "cell_type": "code",
   "execution_count": 1,
   "metadata": {},
   "outputs": [],
   "source": [
    "import statsmodels.api as sm\n",
    "import numpy as np\n",
    "import pandas as pd\n",
    "from sklearn.model_selection import train_test_split, KFold\n",
    "import matplotlib.pyplot as plt\n",
    "from sklearn.linear_model import Lasso\n",
    "from sklearn import preprocessing\n",
    "\n",
    "bodyfat = pd.read_csv(\"./bodyfat.csv\")\n",
    "\n",
    "X = bodyfat.drop(columns=[\"BodyFat\",\"Density\"])\n",
    "y = bodyfat[\"BodyFat\"]\n",
    "X_train, X_test, y_train, y_test = train_test_split(\n",
    "    X,\n",
    "    y,\n",
    "    test_size=0.2,\n",
    "    random_state = 10\n",
    ")\n",
    "\n",
    "kf = KFold(n_splits = 5, shuffle = True, random_state = 10)\n",
    "cv_fold = np.zeros(len(y_train)).astype(int)\n",
    "for i, (_, fold_indexes) in enumerate(kf.split(X_train)):\n",
    "    cv_fold[fold_indexes] = int(i)"
   ]
  },
  {
   "cell_type": "markdown",
   "metadata": {},
   "source": [
    "## B)"
   ]
  },
  {
   "cell_type": "code",
   "execution_count": 2,
   "metadata": {},
   "outputs": [],
   "source": [
    "from itertools import combinations\n",
    "\n",
    "def get_all_possible_subsets(n, features):\n",
    "    return list(combinations(features, n))\n",
    "\n",
    "## Best subset selection\n",
    "overall_best_params_bs = None\n",
    "overall_max_coef_bs = 0\n",
    "best_model_by_numb_pred_bs = {}\n",
    "for numb_pred in range(1, 14):\n",
    "\n",
    "    # Get all possible subsets and remove duplicates\n",
    "    possibilities = get_all_possible_subsets(numb_pred, X_train.columns)\n",
    "    possibilities = [tuple(sorted(possibility)) for possibility in possibilities]\n",
    "    possibilities = list(set(possibilities))\n",
    "\n",
    "    possibilit_max_coef = 0\n",
    "    for possibilit in possibilities:\n",
    "        r2_coef = 0\n",
    "        # We perform a 5-fold cross validation\n",
    "        for fold_index in range(0, 5):\n",
    "            x_fold_train = X_train.loc[cv_fold != fold_index, possibilit]\n",
    "            y_fold_train = y_train.loc[cv_fold != fold_index]\n",
    "            fitted_lm = sm.OLS(y_fold_train, x_fold_train).fit()\n",
    "\n",
    "            y_fold_validation = y_train.loc[cv_fold == fold_index]\n",
    "            x_fold_validation = X_train.loc[cv_fold == fold_index, possibilit]\n",
    "\n",
    "            y_fold_validation_pred = fitted_lm.predict(x_fold_validation)\n",
    "\n",
    "            # R2 coefficient on the validation set\n",
    "            r2_coef += 1 - np.sum((y_fold_validation - y_fold_validation_pred) ** 2) / np.sum((y_fold_validation - np.mean(y_fold_validation)) ** 2)\n",
    "\n",
    "        # avg of the r2 coefficient on the 5 folds for this subset of features\n",
    "        avg_r2_coef = r2_coef / 5 \n",
    "\n",
    "        # If the model with this subset of features is better than the previous best model, we save its features and update the best r2 coefficient \n",
    "        if possibilit_max_coef < avg_r2_coef:\n",
    "            possibilit_max_coef = avg_r2_coef\n",
    "            best_subset = [param for param in possibilit]\n",
    "\n",
    "    best_model_by_numb_pred_bs[numb_pred] = {\n",
    "        \"features\": best_subset, \n",
    "        \"r2coef\": possibilit_max_coef\n",
    "    }\n",
    "\n",
    "    # If the model with this number of features is better than the previous best model, we save its features and update the best r2 coefficient\n",
    "    if overall_max_coef_bs < possibilit_max_coef:\n",
    "        overall_max_coef_bs = possibilit_max_coef\n",
    "        overall_best_params_bs = best_subset\n",
    "\n",
    "# Retrain the best model using all training data\n",
    "best_bs_model = sm.OLS(y_train, X_train[overall_best_params_bs]).fit()"
   ]
  },
  {
   "cell_type": "code",
   "execution_count": 3,
   "metadata": {},
   "outputs": [],
   "source": [
    "# Forward stepwise selection\n",
    "overall_best_params_forward = None\n",
    "overall_max_coef_forward = 0\n",
    "best_model_by_numb_pred_forward = {}\n",
    "previous_stage_best_features = []\n",
    "\n",
    "for numb_pred_forward in range(1, 14):\n",
    "    available_features = set(X_train.columns) - set(previous_stage_best_features)\n",
    "    possibilit_max_coef = 0\n",
    "    for feature in available_features:\n",
    "        # We add a new feature to the previous best subset of features to test the model with this new subset\n",
    "        new_features = previous_stage_best_features + [feature]\n",
    "        r2_coef = 0\n",
    "        # We perform a 5-fold cross validation\n",
    "        for fold_index in range(0, 5):\n",
    "            x_fold_train = X_train.loc[cv_fold != fold_index, new_features]\n",
    "            y_fold_train = y_train.loc[cv_fold != fold_index]\n",
    "            fitted_lm = sm.OLS(y_fold_train, x_fold_train).fit()\n",
    "\n",
    "            y_fold_validation = y_train.loc[cv_fold == fold_index]\n",
    "            x_fold_validation = X_train.loc[cv_fold == fold_index, new_features]\n",
    "\n",
    "            y_fold_validation_pred = fitted_lm.predict(x_fold_validation)\n",
    "\n",
    "            r2_coef += 1 - np.sum((y_fold_validation - y_fold_validation_pred) ** 2) / np.sum((y_fold_validation - np.mean(y_fold_validation)) ** 2)\n",
    "        avg_r2_coef = r2_coef / 5\n",
    "\n",
    "        # If the model with this subset of features is better than the previous best model, we save its features and update the best r2 coefficient\n",
    "        if possibilit_max_coef < avg_r2_coef:\n",
    "            possibilit_max_coef = avg_r2_coef\n",
    "            best_subset = new_features\n",
    "    \n",
    "    # Save the best model for this number of features\n",
    "    best_model_by_numb_pred_forward[numb_pred_forward] = {\n",
    "        \"features\": best_subset, \n",
    "        \"r2coef\": possibilit_max_coef\n",
    "    }\n",
    "    previous_stage_best_features = best_subset\n",
    "\n",
    "    # Save the best overall model\n",
    "    if overall_max_coef_forward < possibilit_max_coef:\n",
    "        overall_max_coef_forward = possibilit_max_coef\n",
    "        overall_best_params_forward = best_subset\n",
    "\n",
    "# Retrain the best model using all training data\n",
    "best_forward_model = sm.OLS(y_train, X_train[overall_best_params_forward]).fit()"
   ]
  },
  {
   "cell_type": "code",
   "execution_count": 4,
   "metadata": {},
   "outputs": [],
   "source": [
    "# Backward stepwise selection\n",
    "overall_best_params_backward = None\n",
    "overall_max_coef_backward = 0\n",
    "best_model_by_numb_pred_backward = {}\n",
    "previous_stage_best_features = list(X_train.columns)\n",
    "\n",
    "\n",
    "# Include the case where no variable is removed\n",
    "r2_coef = 0\n",
    "for fold_index in range(0, 5):\n",
    "    x_fold_train = X_train.loc[cv_fold != fold_index]\n",
    "    y_fold_train = y_train.loc[cv_fold != fold_index]\n",
    "    fitted_lm = sm.OLS(y_fold_train, x_fold_train).fit()\n",
    "\n",
    "    y_fold_validation = y_train.loc[cv_fold == fold_index]\n",
    "    x_fold_validation = X_train.loc[cv_fold == fold_index]\n",
    "\n",
    "    y_fold_validation_pred = fitted_lm.predict(x_fold_validation)\n",
    "\n",
    "    r2_coef += 1 - np.sum((y_fold_validation - y_fold_validation_pred) ** 2) / np.sum((y_fold_validation - np.mean(y_fold_validation)) ** 2)\n",
    "\n",
    "best_model_by_numb_pred_backward[13] = {\n",
    "    \"features\": list(X_train.columns),\n",
    "    \"r2coef\": r2_coef / 5\n",
    "}\n",
    "\n",
    "for numb_removed_pred_backward in range(1, 13):\n",
    "\n",
    "    available_features = set(previous_stage_best_features)\n",
    "\n",
    "    possibilit_max_coef = 0\n",
    "    for feature in available_features:\n",
    "        # We remove a feature from the previous best subset of features to test the model with this new subset\n",
    "        new_features = list(set(previous_stage_best_features) - set([feature]))\n",
    "        r2_coef = 0\n",
    "        # We perform a 5-fold cross validation\n",
    "        for fold_index in range(0, 5):\n",
    "            x_fold_train = X_train.loc[cv_fold != fold_index, new_features]\n",
    "            y_fold_train = y_train.loc[cv_fold != fold_index]\n",
    "            fitted_lm = sm.OLS(y_fold_train, x_fold_train).fit()\n",
    "\n",
    "            y_fold_validation = y_train.loc[cv_fold == fold_index]\n",
    "            x_fold_validation = X_train.loc[cv_fold == fold_index, new_features]\n",
    "\n",
    "            y_fold_validation_pred = fitted_lm.predict(x_fold_validation)\n",
    "\n",
    "            r2_coef += 1 - np.sum((y_fold_validation - y_fold_validation_pred) ** 2) / np.sum((y_fold_validation - np.mean(y_fold_validation)) ** 2)\n",
    "        avg_r2_coef = r2_coef / 5\n",
    "\n",
    "        # If the model with this subset of features is better than the previous best model, we save its features and update the best r2 coefficient\n",
    "        if possibilit_max_coef < avg_r2_coef:\n",
    "            possibilit_max_coef = avg_r2_coef\n",
    "            best_subset = new_features\n",
    "\n",
    "    # Save the best model for this number of features\n",
    "    best_model_by_numb_pred_backward[13 - numb_removed_pred_backward] = {\n",
    "        \"features\": best_subset, \n",
    "        \"r2coef\": possibilit_max_coef\n",
    "    }\n",
    "    previous_stage_best_features = best_subset\n",
    "\n",
    "    # Save the best overall model\n",
    "    if overall_max_coef_backward < possibilit_max_coef:\n",
    "        overall_max_coef_backward = possibilit_max_coef\n",
    "        overall_best_params_backward = best_subset\n",
    "\n",
    "# Retrain the best model using all training data\n",
    "best_backward_model = sm.OLS(y_train, X_train[overall_best_params_backward]).fit()"
   ]
  },
  {
   "cell_type": "code",
   "execution_count": null,
   "metadata": {},
   "outputs": [
    {
     "data": {
      "image/png": "[encoded data removed]",
      "text/plain": [
       "<Figure size 640x480 with 1 Axes>"
      ]
     },
     "metadata": {},
     "output_type": "display_data"
    }
   ],
   "source": [
    "plt.plot(\n",
    "    list(best_model_by_numb_pred_bs.keys()), \n",
    "    [best_model_by_numb_pred_bs[key][\"r2coef\"] for key in best_model_by_numb_pred_bs.keys()],\n",
    "    label=\"Best subset selection\"\n",
    ")\n",
    "\n",
    "plt.plot(\n",
    "    list(best_model_by_numb_pred_forward.keys()), \n",
    "    [best_model_by_numb_pred_forward[key][\"r2coef\"] for key in best_model_by_numb_pred_forward.keys()],\n",
    "    label=\"Forward stepwise selection\"\n",
    ")\n",
    "\n",
    "plt.plot(\n",
    "    list(best_model_by_numb_pred_backward.keys()), \n",
    "    [best_model_by_numb_pred_backward[key][\"r2coef\"] for key in best_model_by_numb_pred_backward.keys()],\n",
    "    label=\"Backward stepwise selection\"\n",
    ")\n",
    "\n",
    "plt.xlabel('Number of Features')\n",
    "plt.ylabel('RSquared')\n",
    "plt.legend()\n",
    "plt.show()"
   ]
  },
  {
   "cell_type": "markdown",
   "metadata": {},
   "source": [
    "## D)"
   ]
  },
  {
   "cell_type": "code",
   "execution_count": 16,
   "metadata": {},
   "outputs": [],
   "source": [
    "alphas = 10**np.linspace(5,-2,100)"
   ]
  },
  {
   "cell_type": "code",
   "execution_count": 17,
   "metadata": {},
   "outputs": [],
   "source": [
    "X_train_processed = preprocessing.scale(X_train)\n",
    "\n",
    "min_mse = np.inf\n",
    "best_alpha = None\n",
    "alpha_and_mse = {}\n",
    "# Lasso for all alphas\n",
    "for alpha in alphas:\n",
    "    lasso_model = Lasso(alpha=alpha)\n",
    "    sum_mse = 0\n",
    "    for fold_index in range(0, 5):\n",
    "        x_fold_train = X_train_processed[cv_fold != fold_index]\n",
    "        y_fold_train = y_train[cv_fold != fold_index]\n",
    "        lasso_model.fit(x_fold_train, y_fold_train)\n",
    "\n",
    "        y_fold_validation = y_train[cv_fold == fold_index]\n",
    "        x_fold_validation = X_train_processed[cv_fold == fold_index]\n",
    "        y_fold_validation_pred = lasso_model.predict(x_fold_validation)\n",
    "\n",
    "        sum_mse += np.sum((y_fold_validation - y_fold_validation_pred) ** 2) / len(y_fold_validation)\n",
    "\n",
    "    avg_mse = sum_mse / 5\n",
    "    alpha_and_mse[alpha] = avg_mse\n",
    "\n",
    "    if avg_mse < min_mse:\n",
    "        min_mse = avg_mse\n",
    "        best_alpha = alpha\n",
    "\n",
    "# Retrain the best model using all training data\n",
    "lasso_model = Lasso(alpha=best_alpha)\n",
    "best_lasso_model = lasso_model.fit(X_train_processed, y_train)"
   ]
  },
  {
   "cell_type": "code",
   "execution_count": 18,
   "metadata": {},
   "outputs": [
    {
     "data": {
      "text/plain": [
       "Text(0.5, 0, 'Alpha')"
      ]
     },
     "execution_count": 18,
     "metadata": {},
     "output_type": "execute_result"
    },
    {
     "data": {
      "image/png": "[encoded data removed]",
      "text/plain": [
       "<Figure size 640x480 with 1 Axes>"
      ]
     },
     "metadata": {},
     "output_type": "display_data"
    }
   ],
   "source": [
    "plt.plot(\n",
    "    list(alpha_and_mse.keys()), \n",
    "    [alpha_and_mse[key] for key in alpha_and_mse.keys()],\n",
    ")\n",
    "\n",
    "plt.ylabel('MSE')\n",
    "plt.xlabel('Alpha')"
   ]
  },
  {
   "cell_type": "markdown",
   "metadata": {},
   "source": [
    "## E) Vamos supor que k deve ser tq o modelo apresente menor Rsquared"
   ]
  },
  {
   "cell_type": "code",
   "execution_count": 19,
   "metadata": {},
   "outputs": [
    {
     "name": "stdout",
     "output_type": "stream",
     "text": [
      "MSE - Lasso: 16.062248033733823 MSE - Best subset selection: 16.366309346853466 MSE - Forward stepwise selection: 16.704696595152456 MSE - Backward stepwise selection: 16.366309346853328\n"
     ]
    }
   ],
   "source": [
    "# MSE for lasso\n",
    "X_test_processed = preprocessing.scale(X_test)\n",
    "y_test_pred_lasso = best_lasso_model.predict(X_test_processed)\n",
    "mse_test_lasso = np.sum((y_test - y_test_pred_lasso) ** 2) / len(y_test)\n",
    "\n",
    "# MSE for best subset selection\n",
    "X_test_best_bs = X_test[overall_best_params_bs]\n",
    "y_test_pred_bs = best_bs_model.predict(X_test_best_bs)\n",
    "mse_test_bs = np.sum((y_test - y_test_pred_bs) ** 2) / len(y_test)\n",
    "\n",
    "# MSE for forward stepwise selection\n",
    "X_test_best_forward = X_test[overall_best_params_forward]\n",
    "y_test_pred_forward = best_forward_model.predict(X_test_best_forward)\n",
    "mse_test_forward = np.sum((y_test - y_test_pred_forward) ** 2) / len(y_test)\n",
    "\n",
    "# MSE for backward stepwise selection\n",
    "X_test_best_backward = X_test[overall_best_params_backward]\n",
    "y_test_pred_backward = best_backward_model.predict(X_test_best_backward)\n",
    "mse_test_backward = np.sum((y_test - y_test_pred_backward) ** 2) / len(y_test)\n",
    "\n",
    "print(\n",
    "    f\"MSE - Lasso: {mse_test_lasso}\",\n",
    "    f\"MSE - Best subset selection: {mse_test_bs}\",\n",
    "    f\"MSE - Forward stepwise selection: {mse_test_forward}\",\n",
    "    f\"MSE - Backward stepwise selection: {mse_test_backward}\"\n",
    ")"
   ]
  }
 ],
 "metadata": {
  "kernelspec": {
   "display_name": "Python 3",
   "language": "python",
   "name": "python3"
  },
  "language_info": {
   "codemirror_mode": {
    "name": "ipython",
    "version": 3
   },
   "file_extension": ".py",
   "mimetype": "text/x-python",
   "name": "python",
   "nbconvert_exporter": "python",
   "pygments_lexer": "ipython3",
   "version": "3.12.6"
  }
 },
 "nbformat": 4,
 "nbformat_minor": 2
}
