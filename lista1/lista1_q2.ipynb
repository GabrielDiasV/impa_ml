{
 "cells": [
  {
   "cell_type": "markdown",
   "metadata": {},
   "source": [
    "\n",
    "# (i)"
   ]
  },
  {
   "cell_type": "code",
   "execution_count": 20,
   "metadata": {},
   "outputs": [],
   "source": [
    "import numpy as np\n",
    "import matplotlib.pyplot as plt\n",
    "n = 50\n",
    "Sigma = np.diag ([10**((i-20)/5) for i in range(1,n+1)])\n",
    "np.random.seed (0)\n",
    "X = np.array ([np.ones(n),np.random.normal (0,1,n)]).T\n",
    "beta = np.array ([1 ,0.25])\n",
    "epsilon = np.random. multivariate_normal (np.zeros(n),Sigma)\n",
    "y = X @ beta + epsilon"
   ]
  },
  {
   "cell_type": "markdown",
   "metadata": {},
   "source": [
    "# (ii)"
   ]
  },
  {
   "cell_type": "code",
   "execution_count": 21,
   "metadata": {},
   "outputs": [],
   "source": [
    "beta_sigma = np.linalg.inv(X.T @ np.linalg.inv(Sigma) @ X) @ X.T @ np.linalg.inv(Sigma) @ y\n",
    "beta_min_quad = np.linalg.inv(X.T @ X) @ X.T @ y"
   ]
  },
  {
   "cell_type": "code",
   "execution_count": 22,
   "metadata": {},
   "outputs": [
    {
     "data": {
      "text/plain": [
       "[<matplotlib.lines.Line2D at 0x2359d264fb0>]"
      ]
     },
     "execution_count": 22,
     "metadata": {},
     "output_type": "execute_result"
    },
    {
     "data": {
      "image/png": "[encoded data removed]",
      "text/plain": [
       "<Figure size 640x480 with 1 Axes>"
      ]
     },
     "metadata": {},
     "output_type": "display_data"
    }
   ],
   "source": [
    "plt.scatter(X[:,1],y)\n",
    "plt.plot(X[:,1],X @ beta_min_quad)\n",
    "plt.plot(X[:,1],X @ beta_sigma)"
   ]
  },
  {
   "cell_type": "code",
   "execution_count": 23,
   "metadata": {},
   "outputs": [],
   "source": [
    "error_sigma = np.sum((beta - beta_sigma)**2)\n",
    "error_min_quad = np.sum((beta - beta_min_quad)**2)"
   ]
  },
  {
   "cell_type": "markdown",
   "metadata": {},
   "source": [
    "# (iii)"
   ]
  },
  {
   "cell_type": "code",
   "execution_count": 28,
   "metadata": {},
   "outputs": [],
   "source": [
    "t = (beta_min_quad[0] - 0) * ((X - np.mean(X, axis=0)).T @ (X - np.mean(X, axis=0)))/np.sqrt((1/(n-2) * (y - X @ beta_min_quad).T @ (y - X @ beta_min_quad)))"
   ]
  },
  {
   "cell_type": "markdown",
   "metadata": {},
   "source": [
    "# (iv)"
   ]
  },
  {
   "cell_type": "code",
   "execution_count": 26,
   "metadata": {},
   "outputs": [],
   "source": [
    "Z = beta_sigma[0] / np.sqrt(np.linalg.inv(X.T @ np.linalg.inv(Sigma) @ X)[1,1])"
   ]
  }
 ],
 "metadata": {
  "kernelspec": {
   "display_name": "Python 3",
   "language": "python",
   "name": "python3"
  },
  "language_info": {
   "codemirror_mode": {
    "name": "ipython",
    "version": 3
   },
   "file_extension": ".py",
   "mimetype": "text/x-python",
   "name": "python",
   "nbconvert_exporter": "python",
   "pygments_lexer": "ipython3",
   "version": "3.12.6"
  }
 },
 "nbformat": 4,
 "nbformat_minor": 2
}
