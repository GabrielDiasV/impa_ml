{
 "cells": [
  {
   "cell_type": "code",
   "execution_count": 2,
   "metadata": {},
   "outputs": [],
   "source": [
    "import numpy as np\n",
    "import pandas as pd\n",
    "from sklearn.model_selection import train_test_split, KFold\n",
    "from sklearn.linear_model import Ridge, LinearRegression\n",
    "from sklearn.kernel_ridge import KernelRidge\n",
    "from sklearn.preprocessing import StandardScaler\n",
    "from sklearn.pipeline import make_pipeline\n",
    "from sklearn import preprocessing\n",
    "from tqdm import tqdm\n",
    "\n",
    "number_of_folds = 10\n",
    "\n",
    "data = pd.read_csv(\"./bodyfat.csv\")\n",
    "X = data.drop(columns=[\"BodyFat\", \"Density\"])\n",
    "y = data[\"BodyFat\"]\n",
    "X_train, X_test, y_train, y_test = train_test_split(X, y, test_size=0.2, random_state=0)\n"
   ]
  },
  {
   "cell_type": "code",
   "execution_count": 3,
   "metadata": {},
   "outputs": [
    {
     "name": "stdout",
     "output_type": "stream",
     "text": [
      "Erro de treino do modelo de regressão linear:  18.090133641655054 \n",
      " Erro de teste do modelo de regressão linear:  15.910489104854424\n"
     ]
    }
   ],
   "source": [
    "# (i)\n",
    "# Linear Regression:\n",
    "\n",
    "linear_regression = LinearRegression()\n",
    "fitted_linear_regression = linear_regression.fit(X_train, y_train)\n",
    "train_mean_squared_error = np.mean((fitted_linear_regression.predict(X_train) - y_train) ** 2)\n",
    "test_mean_squared_error = np.mean((fitted_linear_regression.predict(X_test) - y_test) ** 2)\n",
    "\n",
    "print(\n",
    "    \"Erro de treino do modelo de regressão linear: \",\n",
    "    train_mean_squared_error,\n",
    "    \"\\n\",\n",
    "    \"Erro de teste do modelo de regressão linear: \",\n",
    "    test_mean_squared_error,\n",
    ")"
   ]
  },
  {
   "cell_type": "code",
   "execution_count": 5,
   "metadata": {},
   "outputs": [
    {
     "name": "stderr",
     "output_type": "stream",
     "text": [
      "100%|██████████| 100/100 [00:03<00:00, 28.33it/s]"
     ]
    },
    {
     "name": "stdout",
     "output_type": "stream",
     "text": [
      "15.910432432652605\n"
     ]
    },
    {
     "name": "stderr",
     "output_type": "stream",
     "text": [
      "\n"
     ]
    }
   ],
   "source": [
    "# (ii)\n",
    "# Ridge Regression:\n",
    "alphas = 10 ** np.linspace(3, -2, 100)\n",
    "\n",
    "ridge_cv_mse = []\n",
    "for alpha in tqdm(alphas):\n",
    "    cv_MSE = []\n",
    "    folds = KFold(n_splits=number_of_folds, shuffle=True, random_state=2023).split(X_train, y_train)\n",
    "    for train_idx, val_idx in folds:\n",
    "        ridge_pipeline = make_pipeline(StandardScaler(), Ridge(alpha=alpha))\n",
    "        ridge_pipeline[1].fit(X_train.iloc[train_idx], y_train.iloc[train_idx])\n",
    "        y_hat = ridge_pipeline[1].predict(X_train.iloc[val_idx])\n",
    "        cv_MSE.append(np.mean(y_hat - y_train.iloc[val_idx]) ** 2)\n",
    "\n",
    "    ridge_cv_mse.append(np.mean(cv_MSE))\n",
    "\n",
    "optimal_alpha = alphas[np.argmin(ridge_cv_mse)]\n",
    "\n",
    "ridge_pipeline = make_pipeline(StandardScaler(), Ridge(alpha=optimal_alpha))\n",
    "ridge_pipeline[1].fit(X_train, y_train)\n",
    "\n",
    "y_hat_ridge = ridge_pipeline[1].predict(X_test) \n",
    "ridge_test_mse = np.mean((y_hat_ridge - y_test) ** 2)\n",
    "print(ridge_test_mse)"
   ]
  },
  {
   "cell_type": "code",
   "execution_count": 11,
   "metadata": {},
   "outputs": [
    {
     "data": {
      "text/plain": [
       "0.01"
      ]
     },
     "execution_count": 11,
     "metadata": {},
     "output_type": "execute_result"
    }
   ],
   "source": [
    "optimal_alpha"
   ]
  },
  {
   "cell_type": "code",
   "execution_count": 5,
   "metadata": {},
   "outputs": [
    {
     "name": "stderr",
     "output_type": "stream",
     "text": [
      "100%|██████████| 400/400 [03:00<00:00,  2.22it/s]"
     ]
    },
    {
     "name": "stdout",
     "output_type": "stream",
     "text": [
      "18.459461584351413\n"
     ]
    },
    {
     "name": "stderr",
     "output_type": "stream",
     "text": [
      "\n"
     ]
    }
   ],
   "source": [
    "# (iii)\n",
    "\n",
    "kernels = [\"linear\", \"polynomial\", \"rbf\", \"laplacian\"]\n",
    "gammas = [10**-3]\n",
    "alphas = 10 ** np.linspace(3, -2, 100)\n",
    "hyperparams = [(kernel, gamma, alpha) for kernel in kernels for gamma in gammas for alpha in alphas]\n",
    "\n",
    "ridge_cv_mse = []\n",
    "for hyperparam in tqdm(hyperparams):\n",
    "    cv_MSE = []\n",
    "    folds = KFold(n_splits=number_of_folds, shuffle=True, random_state=2023).split(X_train, y_train)\n",
    "    for train_idx, val_idx in folds:\n",
    "        ridge_pipeline = make_pipeline(StandardScaler(), KernelRidge(alpha=hyperparam[2], kernel=hyperparam[0], gamma=hyperparam[1]))\n",
    "        ridge_pipeline[1].fit(X_train.iloc[train_idx], y_train.iloc[train_idx])\n",
    "        y_hat = ridge_pipeline[1].predict(X_train.iloc[val_idx])\n",
    "        cv_MSE.append(np.mean(y_hat - y_train.iloc[val_idx]) ** 2)\n",
    "\n",
    "    ridge_cv_mse.append(np.mean(cv_MSE))\n",
    "\n",
    "optimal_hyperparam = hyperparams[np.argmin(ridge_cv_mse)]\n",
    "\n",
    "ridge_pipeline = make_pipeline(StandardScaler(), KernelRidge(alpha=optimal_hyperparam[2], kernel=optimal_hyperparam[0], gamma=optimal_hyperparam[1]))\n",
    "ridge_pipeline[1].fit(X_train, y_train)\n",
    "\n",
    "y_hat_ridge = ridge_pipeline[1].predict(X_test) \n",
    "ridge_test_mse = np.mean((y_hat_ridge - y_test) ** 2)\n",
    "print(ridge_test_mse)\n",
    "print(optimal_hyperparam)"
   ]
  }
 ],
 "metadata": {
  "kernelspec": {
   "display_name": "Python 3",
   "language": "python",
   "name": "python3"
  },
  "language_info": {
   "codemirror_mode": {
    "name": "ipython",
    "version": 3
   },
   "file_extension": ".py",
   "mimetype": "text/x-python",
   "name": "python",
   "nbconvert_exporter": "python",
   "pygments_lexer": "ipython3",
   "version": "3.12.6"
  }
 },
 "nbformat": 4,
 "nbformat_minor": 2
}
